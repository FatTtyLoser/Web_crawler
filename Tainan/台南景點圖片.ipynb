{
 "cells": [
  {
   "cell_type": "markdown",
   "id": "lesser-playlist",
   "metadata": {},
   "source": [
    "建立各景點的名稱list"
   ]
  },
  {
   "cell_type": "code",
   "execution_count": null,
   "id": "respected-brisbane",
   "metadata": {
    "scrolled": true
   },
   "outputs": [],
   "source": [
    "import requests\n",
    "from bs4 import BeautifulSoup\n",
    "import pandas as pd\n",
    "import re\n",
    "import os\n",
    "import numpy\n",
    "import time,random\n",
    "import sys, json\n",
    "\n",
    "\n",
    "page = 1\n",
    "titlestrlist = []\n",
    "list = []\n",
    "pageurl = []\n",
    "for j in range(0,46):\n",
    "    url = 'https://www.twtainan.net/zh-tw/attractions?sortby=Hits&page={}'\n",
    "    headers = {\n",
    "        'User-Agent': 'Mozilla/5.0 (Windows NT 10.0; Win64; x64) AppleWebKit/537.36 (KHTML, like Gecko) Chrome/91.0.4472.77 Safari/537.36'\n",
    "    }\n",
    "\n",
    "    res = requests.get(url.format(page), headers=headers)\n",
    "    html = res.text\n",
    "\n",
    "    soup = BeautifulSoup(html, 'html.parser')\n",
    "    try:\n",
    "        for i in range(12):\n",
    "            titlestr =soup.select('h3[class=\"info-title\"]')[i].text\n",
    "            titlestrlist.append(titlestr)\n",
    "            print('url OK')\n",
    "    except:\n",
    "        pass\n",
    "    \n",
    "#     time.sleep(random.uniform(1, 3))\n",
    "    print('page OK')\n",
    "    page +=1\n",
    "    \n",
    "        \n",
    "print(len(titlestrlist))\n",
    "titlestrlist"
   ]
  },
  {
   "cell_type": "markdown",
   "id": "invalid-lafayette",
   "metadata": {},
   "source": [
    "測試內頁list"
   ]
  },
  {
   "cell_type": "code",
   "execution_count": null,
   "id": "virtual-equation",
   "metadata": {},
   "outputs": [],
   "source": [
    "import requests\n",
    "from bs4 import BeautifulSoup\n",
    "import pandas as pd\n",
    "import re\n",
    "import os\n",
    "import numpy\n",
    "import time,random\n",
    "import sys, json\n",
    "\n",
    "url = 'https://www.twtainan.net/zh-tw/attractions?sortby=Hits&page=1'\n",
    "headers = {'User-Agent': 'Mozilla/5.0 (Windows NT 10.0; Win64; x64) AppleWebKit/537.36 (KHTML, like Gecko) Chrome/91.0.4472.77 Safari/537.36'}\n",
    "res = requests.get(url, headers=headers)\n",
    "html = res.text\n",
    "soup = BeautifulSoup(html, 'html.parser')\n",
    "\n",
    "title_listitem = titlestrlist[0]\n",
    "title_tra2str = title_listitem\n",
    "titlelist = soup.find('a', class_=\"link\" , target=\"_self\" , title=title_tra2str )\n",
    "urlshop = \"https://www.twtainan.net/\" + titlelist.get('href')\n",
    "print(urlshop)"
   ]
  },
  {
   "cell_type": "markdown",
   "id": "conceptual-leeds",
   "metadata": {},
   "source": [
    "建立各景點的內頁list"
   ]
  },
  {
   "cell_type": "code",
   "execution_count": null,
   "id": "genetic-contract",
   "metadata": {
    "scrolled": true
   },
   "outputs": [],
   "source": [
    "import requests\n",
    "from bs4 import BeautifulSoup\n",
    "import pandas as pd\n",
    "import re\n",
    "import os\n",
    "import numpy\n",
    "import time,random\n",
    "import sys, json\n",
    "pageurllist = []\n",
    "page = 1\n",
    "for j in range(0,46):\n",
    "    for z in range(12):\n",
    "        title_listitem = titlestrlist.pop(0)\n",
    "        if title_listitem != True:\n",
    "            title_tra2str = title_listitem\n",
    "            url = 'https://www.twtainan.net/zh-tw/attractions?sortby=Hits&page={}'\n",
    "            headers = {'User-Agent': 'Mozilla/5.0 (Windows NT 10.0; Win64; x64) AppleWebKit/537.36 (KHTML, like Gecko) Chrome/91.0.4472.77 Safari/537.36'}\n",
    "            res = requests.get(url.format(page), headers=headers)\n",
    "            html = res.text\n",
    "            soup = BeautifulSoup(html, 'html.parser')\n",
    "            titlelist = soup.find('a', class_=\"link\" , target=\"_self\" , title=title_tra2str )\n",
    "            pageurl = \"https://www.twtainan.net/\" + titlelist.get('href')\n",
    "            print('url OK')\n",
    "            pageurllist.append(pageurl)\n",
    "        else:\n",
    "            break\n",
    "    timesleep = 1\n",
    "    print('page OK')\n",
    "    print('=======')\n",
    "    page += 1\n",
    "pageurllist"
   ]
  },
  {
   "cell_type": "code",
   "execution_count": null,
   "id": "placed-exercise",
   "metadata": {},
   "outputs": [],
   "source": [
    "print(len(titlestrlist))\n",
    "print(len(pageurllist))"
   ]
  },
  {
   "cell_type": "code",
   "execution_count": null,
   "id": "macro-hearing",
   "metadata": {},
   "outputs": [],
   "source": [
    "# titlestrlist.insert(92,'台南市美術館1館(原台南市警察局與原日治時台南警察署)')\n",
    "# del titlestrlist[91]\n",
    "print(titlestrlist[90:95])"
   ]
  },
  {
   "cell_type": "code",
   "execution_count": null,
   "id": "facial-copper",
   "metadata": {},
   "outputs": [],
   "source": [
    "for peko in range(541):\n",
    "    name=titlestrlist[peko]\n",
    "    print(name)"
   ]
  },
  {
   "cell_type": "markdown",
   "id": "three-automation",
   "metadata": {},
   "source": [
    "建立並下載各景點內頁的圖片"
   ]
  },
  {
   "cell_type": "code",
   "execution_count": null,
   "id": "fallen-exhibit",
   "metadata": {
    "scrolled": true
   },
   "outputs": [],
   "source": [
    "from urllib import request\n",
    "import requests\n",
    "from bs4 import BeautifulSoup\n",
    "import pandas as pd\n",
    "import re\n",
    "import os\n",
    "import numpy\n",
    "import time\n",
    "import sys, json\n",
    "\n",
    "filepath = \"./images\"\n",
    "if not os.path.exists(filepath):\n",
    "    os.mkdir(\"images\")  \n",
    "for T in range(541):\n",
    "    page = pageurllist[T]\n",
    "    folder_name = titlestrlist[T]\n",
    "    file_name = folder_name\n",
    "    url = page\n",
    "    headers = {'User-Agent': 'Mozilla/5.0 (Windows NT 10.0; Win64; x64) AppleWebKit/537.36 (KHTML, like Gecko) Chrome/91.0.4472.77 Safari/537.36'}\n",
    "    res = requests.get(url.format(page), headers=headers)\n",
    "    html = res.text\n",
    "    soup = BeautifulSoup(html, 'html.parser')\n",
    "    img = soup.findAll('meta', property=\"og:image\")\n",
    "    index = 0\n",
    "    for Y in range(len(img)):        \n",
    "        if img != False:\n",
    "            imgurl = img[Y]\n",
    "            imgdownload = imgurl.get('content')\n",
    "            r = requests.get(imgdownload)\n",
    "            print(imgdownload)\n",
    "            folder_path = './images/'+str(folder_name)+'/'\n",
    "            print(folder_path)\n",
    "            if os.path.exists(folder_path) == False:\n",
    "                os.mkdir(folder_path)\n",
    "            with open((folder_path)+file_name+str(index+1)+'.jpg' , 'wb') as f:\n",
    "                f.write(r.content)\n",
    "            index +=1\n",
    "            timesleep=2\n",
    "            print('OK')\n",
    "        else:\n",
    "            break"
   ]
  }
 ],
 "metadata": {
  "kernelspec": {
   "display_name": "Python 3",
   "language": "python",
   "name": "python3"
  },
  "language_info": {
   "codemirror_mode": {
    "name": "ipython",
    "version": 3
   },
   "file_extension": ".py",
   "mimetype": "text/x-python",
   "name": "python",
   "nbconvert_exporter": "python",
   "pygments_lexer": "ipython3",
   "version": "3.8.6"
  }
 },
 "nbformat": 4,
 "nbformat_minor": 5
}
